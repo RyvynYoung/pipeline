{
 "cells": [
  {
   "cell_type": "markdown",
   "metadata": {},
   "source": [
    "# End to End Pipeline Project\n",
    "\n",
    "## GOAL\n",
    "- Ingest data into cloud storage, manipulate/aggregate data within cloud environment, create Dashboard to view/filter data for end user      "
   ]
  },
  {
   "cell_type": "markdown",
   "metadata": {},
   "source": [
    "## Acquire Data \n",
    "- IMDb site indicates sample data is available free on AWS\n",
    "- Challenge: where is this data on AWS?\n",
    "- Set up AWS free/trail account\n",
    "    - BLOCKER: need payment set up\n",
    "- Possible AWS tutorial on S3 storage?"
   ]
  },
  {
   "cell_type": "markdown",
   "metadata": {},
   "source": [
    "### Training/Resources\n",
    "- https://"
   ]
  },
  {
   "cell_type": "markdown",
   "metadata": {},
   "source": [
    "## INGEST DATA\n",
    "- need to figure out how to get daily updated data from IMDb sample to my storage ?folder? ?lake?"
   ]
  },
  {
   "cell_type": "markdown",
   "metadata": {},
   "source": [
    "### Training Log\n",
    "- Azure Databricks 3-part training\n",
    "    - https://databricks.com/p/thank-you/webinar-azure-databricks-3-part-training-series-139977\n",
    "    - 1/26/21: Part 1 lakehouse-with-delta-lake-dd-1.0.0\n",
    "        - ingest raw data from streaming source (Databricks provided sample data from AWS S3)\n",
    "        - review and visualize data (Databricks provided mock IoT(Internet of Things) sensor dataset)\n",
    "        - creating a parquet table (transform time to date and timestamp, create partitions on device_id)\n",
    "        - creating a delta table (convert a parquet table to a delta table)\n",
    "            - delta tables contain 3 things: data files kept in object storage (AWS S3, Azure Data Lake Storage), the Delta Transaction Log (saved with the data files in storage), and a table registered in the Metastore (optional but recommended)\n",
    "            - a \"gold\"/\"datamart\" table is an aggregate table that could then feed a dashboard\n",
    "        - batch write to delta tables (append streaming data to existing delta tables)\n",
    "            - load new data (read .json file), transform data with python function to same schema as existing, append data to the delta table write.mode(\"append\")....\n",
    "        - exploring the ssot (single source of truth)\n",
    "        - upsert into a delta table"
   ]
  },
  {
   "cell_type": "markdown",
   "metadata": {},
   "source": [
    "## Prepare Data\n",
    "- Do this with AWS? pull data into Databricks?"
   ]
  },
  {
   "cell_type": "code",
   "execution_count": null,
   "metadata": {},
   "outputs": [],
   "source": []
  }
 ],
 "metadata": {
  "kernelspec": {
   "display_name": "Python 3",
   "language": "python",
   "name": "python3"
  },
  "language_info": {
   "codemirror_mode": {
    "name": "ipython",
    "version": 3
   },
   "file_extension": ".py",
   "mimetype": "text/x-python",
   "name": "python",
   "nbconvert_exporter": "python",
   "pygments_lexer": "ipython3",
   "version": "3.7.9"
  },
  "toc": {
   "base_numbering": 1,
   "nav_menu": {},
   "number_sections": true,
   "sideBar": true,
   "skip_h1_title": false,
   "title_cell": "Table of Contents",
   "title_sidebar": "Contents",
   "toc_cell": false,
   "toc_position": {},
   "toc_section_display": true,
   "toc_window_display": false
  }
 },
 "nbformat": 4,
 "nbformat_minor": 4
}
